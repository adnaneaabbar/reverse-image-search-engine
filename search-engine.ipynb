{
 "cells": [
  {
   "cell_type": "markdown",
   "metadata": {},
   "source": [
    "# Importing Libraries"
   ]
  },
  {
   "cell_type": "code",
   "execution_count": 1,
   "metadata": {},
   "outputs": [],
   "source": [
    "import os\n",
    "import pickle\n",
    "import numpy as np\n",
    "import pandas as pd\n",
    "import cv2 as cv\n",
    "import matplotlib.pyplot as plt\n",
    "import tensorflow as tf\n",
    "from tqdm import tqdm_notebook\n",
    "from scipy.spatial.distance import hamming, cosine\n",
    "\n",
    "%matplotlib inline"
   ]
  },
  {
   "cell_type": "markdown",
   "metadata": {},
   "source": [
    "# Dataset utils and preprocessing"
   ]
  },
  {
   "cell_type": "code",
   "execution_count": 2,
   "metadata": {},
   "outputs": [],
   "source": [
    "def image_loader(path, size):\n",
    "    # String path to image\n",
    "    # Tuple size of output image\n",
    "    image = cv.imread(path)\n",
    "    image = cv.cvtColor(image, cv.COLOR_BAYER_BGR2RGB)\n",
    "    image = cv.resize(image, size, cv.INTER_CUBIC)\n",
    "\n",
    "    return image"
   ]
  },
  {
   "cell_type": "code",
   "execution_count": 3,
   "metadata": {},
   "outputs": [],
   "source": [
    "def dataset_preprocessing(dataset_path, labels_file_path, size, image_paths_pickle):\n",
    "    # String path to dataset\n",
    "    # String path to labels file\n",
    "    # Tuple size of image\n",
    "    # String name of pickle file where image paths are stored\n",
    "    with open(labels_file_path, 'r') as f:\n",
    "        classes = f.read().split('\\n')[:-1]\n",
    "    \n",
    "    images = []\n",
    "    labels = []\n",
    "    image_paths = []\n",
    "    \n",
    "    for image_name in os.listdir(dataset_path):\n",
    "        try:\n",
    "            image_path = os.path.join(dataset_path, image_name)\n",
    "            images.append(image_loader(image_path, size))\n",
    "            image_paths.append(image_path)\n",
    "            for idx in range(len(classes)):\n",
    "                if classes[idx] in image_name:\n",
    "                    labels.append(idx)\n",
    "        except:\n",
    "            pass\n",
    "    \n",
    "    with open(image_paths_pickle + \".pickle\", 'wb') as f:\n",
    "        pickle.dump(image_paths, f)\n",
    "    \n",
    "    assert len(images) == len(labels)\n",
    "    return np.array(images), np.array(labels)"
   ]
  },
  {
   "cell_type": "markdown",
   "metadata": {},
   "source": [
    "# Utils functions"
   ]
  },
  {
   "cell_type": "markdown",
   "metadata": {},
   "source": [
    "## 1. Cosine similarity\n",
    "![](static\\cosine-similarity-draw.png)\n",
    "![](static\\cosine-similarity.png)"
   ]
  },
  {
   "cell_type": "code",
   "execution_count": 4,
   "metadata": {},
   "outputs": [],
   "source": [
    "def cosine_distance(training_set_vectors, query_vector, top_n=30):\n",
    "    \n",
    "    distances = []\n",
    "    # comparing each image to all training set\n",
    "    for i in range(len(training_set_vectors)):\n",
    "        distances.append(cosine(training_set_vectors[i], query_vector[0]))\n",
    "    # return sorted indices of 30 most similar images\n",
    "    return np.argsort(distances)[:top_n]"
   ]
  },
  {
   "cell_type": "markdown",
   "metadata": {},
   "source": [
    "## 2. Hamming distance\n",
    "![](static\\hamming.png)\n",
    "![](static\\hamming-explained.png)"
   ]
  },
  {
   "cell_type": "code",
   "execution_count": 5,
   "metadata": {},
   "outputs": [],
   "source": [
    "def hamming_distance(training_set_vectors, query_vector, top_n=50):\n",
    "\n",
    "    distances = []\n",
    "    # comparing each image to all training set\n",
    "    for i in range(len(training_set_vectors)):\n",
    "        distances.append(hamming(training_set_vectors[i], query_vector[0]))\n",
    "    # return sorted indices of 30 most similar images   \n",
    "    return np.argsort(distances)[:top_n]"
   ]
  },
  {
   "cell_type": "markdown",
   "metadata": {},
   "source": [
    "## 3. Sparse accuracy"
   ]
  },
  {
   "cell_type": "code",
   "execution_count": 6,
   "metadata": {},
   "outputs": [],
   "source": [
    "def sparse_accuracy(true_labels, predicted_labels):\n",
    "\n",
    "    # np array real labels of each sample\n",
    "    # np matrix softmax probabilities\n",
    "    \n",
    "    assert len(true_labels) == len(predicted_labels)\n",
    "    \n",
    "    correct = 0\n",
    "    for i in range(len(true_labels)):\n",
    "        if np.argmax(predicted_labels[i]) == true_labels[i]:\n",
    "            correct += 1\n",
    "            \n",
    "    return correct / len(true_labels)"
   ]
  },
  {
   "cell_type": "code",
   "execution_count": null,
   "metadata": {},
   "outputs": [],
   "source": []
  }
 ],
 "metadata": {
  "language_info": {
   "codemirror_mode": {
    "name": "ipython",
    "version": 3
   },
   "file_extension": ".py",
   "mimetype": "text/x-python",
   "name": "python",
   "nbconvert_exporter": "python",
   "pygments_lexer": "ipython3",
   "version": "3.7.4-final"
  },
  "orig_nbformat": 2,
  "kernelspec": {
   "name": "python37464bit2d2a7b7d88554f6bbdade15fa4e28b95",
   "display_name": "Python 3.7.4 64-bit"
  }
 },
 "nbformat": 4,
 "nbformat_minor": 2
}